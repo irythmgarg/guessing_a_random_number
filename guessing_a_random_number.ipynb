{
  "nbformat": 4,
  "nbformat_minor": 0,
  "metadata": {
    "colab": {
      "provenance": [],
      "authorship_tag": "ABX9TyNcv+k4UqMGBzUewuWTUQYT",
      "include_colab_link": true
    },
    "kernelspec": {
      "name": "python3",
      "display_name": "Python 3"
    },
    "language_info": {
      "name": "python"
    }
  },
  "cells": [
    {
      "cell_type": "markdown",
      "metadata": {
        "id": "view-in-github",
        "colab_type": "text"
      },
      "source": [
        "<a href=\"https://colab.research.google.com/github/irythmgarg/guessing_a_random_number/blob/main/guessing_a_random_number.ipynb\" target=\"_parent\"><img src=\"https://colab.research.google.com/assets/colab-badge.svg\" alt=\"Open In Colab\"/></a>"
      ]
    },
    {
      "cell_type": "code",
      "execution_count": null,
      "metadata": {
        "colab": {
          "base_uri": "https://localhost:8080/"
        },
        "id": "w61o9-WP2HKa",
        "outputId": "de877d83-6e9f-4c6f-a916-b7191b417216"
      },
      "outputs": [
        {
          "output_type": "stream",
          "name": "stdout",
          "text": [
            "do you want to play (yes/no) yes\n",
            "guess a number between 1 and 10 6\n",
            "your number is large please enter a small number\n",
            "guess a number between 1 and 10 1\n",
            "your number is small please enter a long number\n",
            "guess a number between 1 and 10 3\n",
            "your number is small please enter a long number\n",
            "guess a number between 1 and 10 2\n",
            "your number is small please enter a long number\n",
            "guess a number between 1 and 10 5\n",
            "WoooooW, you did it in  5  attempts\n"
          ]
        }
      ],
      "source": [
        "import random as r\n",
        "answer = input(\"do you want to play (yes/no) \");# ask user to play or not\n",
        "if(answer=='yes'):\n",
        "  while(answer==\"yes\"):# play till user wants\n",
        "    r=r.randint(1,10);# generate a random number to guess\n",
        "    counter=1;\n",
        "    guess = int(input(\"guess a number between 1 and 10 \"));#guess random number\n",
        "    while(r!=guess):# guess till number not found\n",
        "        if(guess>r):# number is large\n",
        "         print(\"your number is large please enter a small number\");\n",
        "        elif (guess<r):#numbr is small\n",
        "         print(\"your number is small please enter a large number\");\n",
        "        counter=counter+1;# attempts increses by one\n",
        "        guess = int(input(\"guess a number between 1 and 10 \"));\n",
        "\n",
        "    print(\"WoooooW, you did it in \", counter ,\" attempts\");#. number found\n",
        "    answer = input(\"do you want to play (yes/no) \");\n",
        "else:\n",
        "  print(\"ok bye\");\n"
      ]
    }
  ]
}